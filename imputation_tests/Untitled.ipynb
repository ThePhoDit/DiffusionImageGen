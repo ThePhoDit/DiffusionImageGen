{
 "cells": [
  {
   "cell_type": "code",
   "execution_count": 11,
   "id": "c5e8b7d1-5fe9-435a-989f-42b8f26adf74",
   "metadata": {},
   "outputs": [
    {
     "name": "stdout",
     "output_type": "stream",
     "text": [
      "Loaded sample 4 with label: 9\n",
      "Successfully saved 3-channel MNIST image to img_3.png\n",
      "Image details - Shape: torch.Size([3, 28, 28]), Min: 0.00, Max: 1.00\n"
     ]
    }
   ],
   "source": [
    "import torch\n",
    "from torchvision import datasets, transforms\n",
    "from torchvision.utils import save_image\n",
    "import os\n",
    "\n",
    "# --- Configuration ---\n",
    "output_filename = \"img_3.png\"\n",
    "data_root = \"./data\"\n",
    "sample_index = 4 # Index of the sample to fetch (e.g., the first image)\n",
    "\n",
    "# --- Load MNIST Dataset ---\n",
    "# We only need ToTensor initially to get the image as a tensor\n",
    "try:\n",
    "    mnist_dataset = datasets.MNIST(\n",
    "        root=data_root,\n",
    "        train=True, # Or False, doesn't matter much for one sample\n",
    "        download=True,\n",
    "        transform=transforms.ToTensor() # Converts image to [0, 1] tensor\n",
    "    )\n",
    "except Exception as e:\n",
    "    print(f\"Error loading MNIST dataset: {e}\")\n",
    "    exit()\n",
    "\n",
    "\n",
    "# --- Get a Single Sample ---\n",
    "if sample_index >= len(mnist_dataset):\n",
    "    print(f\"Error: Sample index {sample_index} is out of bounds for MNIST dataset (size {len(mnist_dataset)}).\")\n",
    "else:\n",
    "    image_tensor, label = mnist_dataset[sample_index]\n",
    "    print(f\"Loaded sample {sample_index} with label: {label}\")\n",
    "    # image_tensor shape is initially [1, H, W] (e.g., [1, 28, 28])\n",
    "\n",
    "    # --- Convert to 3 Channels ---\n",
    "    # Repeat the grayscale channel 3 times along the channel dimension\n",
    "    image_3channel = image_tensor.repeat(3, 1, 1)\n",
    "    # image_3channel shape is now [3, H, W] (e.g., [3, 28, 28])\n",
    "\n",
    "    # --- Save the Image ---\n",
    "    # save_image handles tensors in the range [0, 1] by default\n",
    "    try:\n",
    "        save_image(image_3channel, output_filename)\n",
    "        print(f\"Successfully saved 3-channel MNIST image to {output_filename}\")\n",
    "        print(f\"Image details - Shape: {image_3channel.shape}, Min: {image_3channel.min():.2f}, Max: {image_3channel.max():.2f}\")\n",
    "    except Exception as e:\n",
    "        print(f\"Error saving image: {e}\")\n"
   ]
  },
  {
   "cell_type": "code",
   "execution_count": null,
   "id": "b3b0ca69-c632-4f83-b734-aee55c66b7a0",
   "metadata": {},
   "outputs": [],
   "source": []
  }
 ],
 "metadata": {
  "kernelspec": {
   "display_name": "Python 3 (ipykernel)",
   "language": "python",
   "name": "python3"
  },
  "language_info": {
   "codemirror_mode": {
    "name": "ipython",
    "version": 3
   },
   "file_extension": ".py",
   "mimetype": "text/x-python",
   "name": "python",
   "nbconvert_exporter": "python",
   "pygments_lexer": "ipython3",
   "version": "3.11.10"
  }
 },
 "nbformat": 4,
 "nbformat_minor": 5
}
