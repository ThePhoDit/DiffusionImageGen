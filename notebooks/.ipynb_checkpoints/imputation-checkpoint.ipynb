{
 "cells": [
  {
   "cell_type": "markdown",
   "metadata": {},
   "source": [
    "# Image Imputation"
   ]
  },
  {
   "cell_type": "markdown",
   "metadata": {
    "vscode": {
     "languageId": "plaintext"
    }
   },
   "source": [
    "We will now demonstrate our system imputation capabilities.\n",
    "\n",
    "We'll start with something simple as the MNIST dataset. We provide samples from the dataset where some parts have been removed (made transparent, so the image has to be a png). For reference, we show the original image and the imputed one.\n",
    "\n",
    "Trasnparent parts in the original image painted red."
   ]
  },
  {
   "cell_type": "code",
   "execution_count": 1,
   "metadata": {},
   "outputs": [
    {
     "name": "stdout",
     "output_type": "stream",
     "text": [
      "Using device: cuda\n",
      "Selected Dataset: MNIST\n",
      "Selected mode: impute\n",
      "Selected diffusion process: ve\n",
      "Initializing VE diffusion process with sigma=25.0, T=1.0\n",
      "--- Running Image Imputation (MNIST) --- \n",
      "Loading and preparing data for imputation...\n",
      "Using alpha channel from input image as mask.\n",
      "Loaded image shape: torch.Size([1, 3, 28, 28])\n",
      "Created mask shape: torch.Size([1, 3, 28, 28])\n",
      "Loading model from: mnist_model/ve_50_conditional.pth\n",
      "Attempting to load a conditional model for imputation (--use_class_condition=True).\n",
      "Loading model from: mnist_model/ve_50_conditional.pth\n",
      "Getting ScoreModel configured for VE process.\n",
      "Model loaded successfully.\n",
      "Using class 5 for conditional imputation.\n",
      "Starting imputation sampling...\n",
      "Running RePaint Sampler: n_steps=1000, jump_length=10, jump_n_sample=10\n",
      "RePaint Sampling Steps: 100%|██████████████| 1000/1000 [00:02<00:00, 392.37it/s]\n",
      "Saving imputed image to: imputation_tests/img1_imputed.png\n",
      "Imputation finished.\n"
     ]
    }
   ],
   "source": [
    "!cd .. && python main.py \\\n",
    " --mode impute \\\n",
    " --dataset mnist \\\n",
    " --process ve \\\n",
    " --model_path mnist_model/ve_50_conditional.pth \\\n",
    " --input_image imputation_tests/img_1.png \\\n",
    " --output_image imputation_tests/img1_imputed.png \\\n",
    " --impute_steps 1000 \\\n",
    " --jump_length 10 \\\n",
    " --jump_n_sample 10 \\\n",
    " --image_channels 3 \\\n",
    " --use_class_condition --target_class 5"
   ]
  },
  {
   "cell_type": "code",
   "execution_count": 2,
   "metadata": {},
   "outputs": [],
   "source": [
    "from PIL import Image\n",
    "import numpy as np\n",
    "import matplotlib.pyplot as plt\n",
    "\n",
    "def show_image(image_path):\n",
    "    image = Image.open(image_path).convert(\"RGBA\")\n",
    "    \n",
    "    data = np.array(image)\n",
    "\n",
    "    output_data = np.zeros(data.shape, dtype=np.uint8)\n",
    "    \n",
    "    # Fill the output image with red where the original image is transparent\n",
    "    for y in range(data.shape[0]):\n",
    "        for x in range(data.shape[1]):\n",
    "            if data[y, x, 3] != 255:  # Check if the pixel is transparent\n",
    "                output_data[y, x] = [255, 0, 0, 255]  # Paint red (R, G, B, A)\n",
    "            else:\n",
    "                output_data[y, x] = data[y, x]  # Keep the original pixel\n",
    "    \n",
    "    output_image = Image.fromarray(output_data, 'RGBA')\n",
    "    \n",
    "    plt.imshow(output_image)\n",
    "    plt.axis('off')\n",
    "    plt.show()"
   ]
  },
  {
   "cell_type": "code",
   "execution_count": 3,
   "metadata": {},
   "outputs": [
    {
     "data": {
      "image/png": "[encoded data removed]",
      "text/plain": [
       "<Figure size 640x480 with 1 Axes>"
      ]
     },
     "metadata": {},
     "output_type": "display_data"
    },
    {
     "data": {
      "image/png": "[encoded data removed]",
      "text/plain": [
       "<Figure size 640x480 with 1 Axes>"
      ]
     },
     "metadata": {},
     "output_type": "display_data"
    }
   ],
   "source": [
    "image_path = '../imputation_tests/img_1.png'\n",
    "show_image(image_path)\n",
    "image_path = '../imputation_tests/img1_imputed.png'\n",
    "show_image(image_path)"
   ]
  },
  {
   "cell_type": "code",
   "execution_count": 4,
   "metadata": {},
   "outputs": [
    {
     "name": "stdout",
     "output_type": "stream",
     "text": [
      "Using device: cuda\n",
      "Selected Dataset: MNIST\n",
      "Selected mode: impute\n",
      "Selected diffusion process: ve\n",
      "Initializing VE diffusion process with sigma=25.0, T=1.0\n",
      "--- Running Image Imputation (MNIST) --- \n",
      "Loading and preparing data for imputation...\n",
      "Using alpha channel from input image as mask.\n",
      "Loaded image shape: torch.Size([1, 3, 28, 28])\n",
      "Created mask shape: torch.Size([1, 3, 28, 28])\n",
      "Loading model from: mnist_model/ve_50_conditional.pth\n",
      "Attempting to load a conditional model for imputation (--use_class_condition=True).\n",
      "Loading model from: mnist_model/ve_50_conditional.pth\n",
      "Getting ScoreModel configured for VE process.\n",
      "Model loaded successfully.\n",
      "Using class 0 for conditional imputation.\n",
      "Starting imputation sampling...\n",
      "Running RePaint Sampler: n_steps=1000, jump_length=10, jump_n_sample=10\n",
      "RePaint Sampling Steps: 100%|██████████████| 1000/1000 [00:02<00:00, 398.61it/s]\n",
      "Saving imputed image to: imputation_tests/img2_imputed.png\n",
      "Imputation finished.\n"
     ]
    }
   ],
   "source": [
    "!cd .. && python main.py \\\n",
    " --mode impute \\\n",
    " --dataset mnist \\\n",
    " --process ve \\\n",
    " --model_path mnist_model/ve_50_conditional.pth \\\n",
    " --input_image imputation_tests/img_2.png \\\n",
    " --output_image imputation_tests/img2_imputed.png \\\n",
    " --impute_steps 1000 \\\n",
    " --jump_length 10 \\\n",
    " --jump_n_sample 10 \\\n",
    " --image_channels 3 \\\n",
    " --use_class_condition --target_class 0"
   ]
  },
  {
   "cell_type": "code",
   "execution_count": 5,
   "metadata": {},
   "outputs": [
    {
     "data": {
      "image/png": "[encoded data removed]",
      "text/plain": [
       "<Figure size 640x480 with 1 Axes>"
      ]
     },
     "metadata": {},
     "output_type": "display_data"
    },
    {
     "data": {
      "image/png": "[encoded data removed]",
      "text/plain": [
       "<Figure size 640x480 with 1 Axes>"
      ]
     },
     "metadata": {},
     "output_type": "display_data"
    }
   ],
   "source": [
    "image_path = '../imputation_tests/img_2.png'\n",
    "show_image(image_path)\n",
    "image_path = '../imputation_tests/img2_imputed.png'\n",
    "show_image(image_path)"
   ]
  },
  {
   "cell_type": "code",
   "execution_count": 6,
   "metadata": {
    "scrolled": true
   },
   "outputs": [
    {
     "name": "stdout",
     "output_type": "stream",
     "text": [
      "Using device: cuda\n",
      "Selected Dataset: MNIST\n",
      "Selected mode: impute\n",
      "Selected diffusion process: ve\n",
      "Initializing VE diffusion process with sigma=25.0, T=1.0\n",
      "--- Running Image Imputation (MNIST) --- \n",
      "Loading and preparing data for imputation...\n",
      "Using alpha channel from input image as mask.\n",
      "Loaded image shape: torch.Size([1, 3, 28, 28])\n",
      "Created mask shape: torch.Size([1, 3, 28, 28])\n",
      "Loading model from: mnist_model/ve_50_conditional.pth\n",
      "Attempting to load a conditional model for imputation (--use_class_condition=True).\n",
      "Loading model from: mnist_model/ve_50_conditional.pth\n",
      "Getting ScoreModel configured for VE process.\n",
      "Model loaded successfully.\n",
      "Using class 9 for conditional imputation.\n",
      "Starting imputation sampling...\n",
      "Running RePaint Sampler: n_steps=1000, jump_length=10, jump_n_sample=10\n",
      "RePaint Sampling Steps: 100%|██████████████| 1000/1000 [00:02<00:00, 400.01it/s]\n",
      "Saving imputed image to: imputation_tests/img3_imputed.png\n",
      "Imputation finished.\n"
     ]
    }
   ],
   "source": [
    "!cd .. && python main.py \\\n",
    " --mode impute \\\n",
    " --dataset mnist \\\n",
    " --process ve \\\n",
    " --model_path mnist_model/ve_50_conditional.pth \\\n",
    " --input_image imputation_tests/img_3.png \\\n",
    " --output_image imputation_tests/img3_imputed.png \\\n",
    " --impute_steps 1000 \\\n",
    " --jump_length 10 \\\n",
    " --jump_n_sample 10 \\\n",
    " --image_channels 3 \\\n",
    " --use_class_condition --target_class 9"
   ]
  },
  {
   "cell_type": "code",
   "execution_count": 7,
   "metadata": {},
   "outputs": [
    {
     "data": {
      "image/png": "[encoded data removed]",
      "text/plain": [
       "<Figure size 640x480 with 1 Axes>"
      ]
     },
     "metadata": {},
     "output_type": "display_data"
    },
    {
     "data": {
      "image/png": "[encoded data removed]",
      "text/plain": [
       "<Figure size 640x480 with 1 Axes>"
      ]
     },
     "metadata": {},
     "output_type": "display_data"
    }
   ],
   "source": [
    "image_path = '../imputation_tests/img_3.png'\n",
    "show_image(image_path)\n",
    "image_path = '../imputation_tests/img3_imputed.png'\n",
    "show_image(image_path)"
   ]
  },
  {
   "cell_type": "code",
   "execution_count": 8,
   "metadata": {
    "scrolled": true
   },
   "outputs": [
    {
     "name": "stdout",
     "output_type": "stream",
     "text": [
      "Using device: cuda\n",
      "Selected Dataset: MNIST\n",
      "Selected mode: impute\n",
      "Selected diffusion process: ve\n",
      "Initializing VE diffusion process with sigma=25.0, T=1.0\n",
      "--- Running Image Imputation (MNIST) --- \n",
      "Loading and preparing data for imputation...\n",
      "Using alpha channel from input image as mask.\n",
      "Loaded image shape: torch.Size([1, 3, 28, 28])\n",
      "Created mask shape: torch.Size([1, 3, 28, 28])\n",
      "Loading model from: mnist_model/ve_50_conditional.pth\n",
      "Attempting to load a conditional model for imputation (--use_class_condition=True).\n",
      "Loading model from: mnist_model/ve_50_conditional.pth\n",
      "Getting ScoreModel configured for VE process.\n",
      "Model loaded successfully.\n",
      "Using class 3 for conditional imputation.\n",
      "Starting imputation sampling...\n",
      "Running RePaint Sampler: n_steps=1000, jump_length=10, jump_n_sample=10\n",
      "RePaint Sampling Steps: 100%|██████████████| 1000/1000 [00:02<00:00, 388.44it/s]\n",
      "Saving imputed image to: imputation_tests/img4_imputed.png\n",
      "Imputation finished.\n"
     ]
    }
   ],
   "source": [
    "!cd .. && python main.py \\\n",
    " --mode impute \\\n",
    " --dataset mnist \\\n",
    " --process ve \\\n",
    " --model_path mnist_model/ve_50_conditional.pth \\\n",
    " --input_image imputation_tests/img_4.png \\\n",
    " --output_image imputation_tests/img4_imputed.png \\\n",
    " --impute_steps 1000 \\\n",
    " --jump_length 10 \\\n",
    " --jump_n_sample 10 \\\n",
    " --image_channels 3 \\\n",
    " --use_class_condition --target_class 3"
   ]
  },
  {
   "cell_type": "code",
   "execution_count": 9,
   "metadata": {},
   "outputs": [
    {
     "data": {
      "image/png": "[encoded data removed]",
      "text/plain": [
       "<Figure size 640x480 with 1 Axes>"
      ]
     },
     "metadata": {},
     "output_type": "display_data"
    },
    {
     "data": {
      "image/png": "[encoded data removed]",
      "text/plain": [
       "<Figure size 640x480 with 1 Axes>"
      ]
     },
     "metadata": {},
     "output_type": "display_data"
    }
   ],
   "source": [
    "image_path = '../imputation_tests/img_4.png'\n",
    "show_image(image_path)\n",
    "image_path = '../imputation_tests/img4_imputed.png'\n",
    "show_image(image_path)"
   ]
  },
  {
   "cell_type": "markdown",
   "metadata": {},
   "source": [
    "Now let's give an example using an **unconditional model**."
   ]
  },
  {
   "cell_type": "code",
   "execution_count": 10,
   "metadata": {},
   "outputs": [
    {
     "name": "stdout",
     "output_type": "stream",
     "text": [
      "Using device: cuda\n",
      "Selected Dataset: MNIST\n",
      "Selected mode: impute\n",
      "Selected diffusion process: ve\n",
      "Initializing VE diffusion process with sigma=25.0, T=1.0\n",
      "--- Running Image Imputation (MNIST) --- \n",
      "Loading and preparing data for imputation...\n",
      "Using alpha channel from input image as mask.\n",
      "Loaded image shape: torch.Size([1, 3, 28, 28])\n",
      "Created mask shape: torch.Size([1, 3, 28, 28])\n",
      "Loading model from: mnist_model/ve_uncond_epoch50.pth\n",
      "Loading an unconditional model for imputation.\n",
      "Loading model from: mnist_model/ve_uncond_epoch50.pth\n",
      "Getting ScoreModel configured for VE process.\n",
      "Model loaded successfully.\n",
      "Starting imputation sampling...\n",
      "Running RePaint Sampler: n_steps=1000, jump_length=10, jump_n_sample=10\n",
      "RePaint Sampling Steps: 100%|██████████████| 1000/1000 [00:02<00:00, 417.51it/s]\n",
      "Saving imputed image to: imputation_tests/img4_imputed_uncond.png\n",
      "Imputation finished.\n"
     ]
    }
   ],
   "source": [
    "!cd .. && python main.py \\\n",
    " --mode impute \\\n",
    " --dataset mnist \\\n",
    " --process ve \\\n",
    " --model_path mnist_model/ve_uncond_epoch50.pth \\\n",
    " --input_image imputation_tests/img_4.png \\\n",
    " --output_image imputation_tests/img4_imputed_uncond.png \\\n",
    " --impute_steps 1000 \\\n",
    " --jump_length 10 \\\n",
    " --jump_n_sample 10 \\\n",
    " --image_channels 3 "
   ]
  },
  {
   "cell_type": "code",
   "execution_count": 11,
   "metadata": {},
   "outputs": [
    {
     "data": {
      "image/png": "[encoded data removed]",
      "text/plain": [
       "<Figure size 640x480 with 1 Axes>"
      ]
     },
     "metadata": {},
     "output_type": "display_data"
    },
    {
     "data": {
      "image/png": "[encoded data removed]",
      "text/plain": [
       "<Figure size 640x480 with 1 Axes>"
      ]
     },
     "metadata": {},
     "output_type": "display_data"
    }
   ],
   "source": [
    "image_path = '../imputation_tests/img_4.png'\n",
    "show_image(image_path)\n",
    "image_path = '../imputation_tests/img4_imputed_uncond.png'\n",
    "show_image(image_path)"
   ]
  },
  {
   "cell_type": "code",
   "execution_count": null,
   "metadata": {},
   "outputs": [],
   "source": []
  }
 ],
 "metadata": {
  "kernelspec": {
   "display_name": "Python 3 (ipykernel)",
   "language": "python",
   "name": "python3"
  },
  "language_info": {
   "codemirror_mode": {
    "name": "ipython",
    "version": 3
   },
   "file_extension": ".py",
   "mimetype": "text/x-python",
   "name": "python",
   "nbconvert_exporter": "python",
   "pygments_lexer": "ipython3",
   "version": "3.11.10"
  }
 },
 "nbformat": 4,
 "nbformat_minor": 4
}
